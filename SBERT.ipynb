{
 "cells": [
  {
   "cell_type": "code",
   "execution_count": 1,
   "id": "e907656d-217c-4a48-910c-5c5e9d2b288f",
   "metadata": {},
   "outputs": [
    {
     "name": "stderr",
     "output_type": "stream",
     "text": [
      "C:\\Users\\vasan\\AppData\\Local\\Packages\\PythonSoftwareFoundation.Python.3.11_qbz5n2kfra8p0\\LocalCache\\local-packages\\Python311\\site-packages\\sentence_transformers\\cross_encoder\\CrossEncoder.py:13: TqdmExperimentalWarning: Using `tqdm.autonotebook.tqdm` in notebook mode. Use `tqdm.tqdm` instead to force console mode (e.g. in jupyter console)\n",
      "  from tqdm.autonotebook import tqdm, trange\n",
      "C:\\Users\\vasan\\AppData\\Local\\Packages\\PythonSoftwareFoundation.Python.3.11_qbz5n2kfra8p0\\LocalCache\\local-packages\\Python311\\site-packages\\transformers\\tokenization_utils_base.py:1601: FutureWarning: `clean_up_tokenization_spaces` was not set. It will be set to `True` by default. This behavior will be depracted in transformers v4.45, and will be then set to `False` by default. For more details check this issue: https://github.com/huggingface/transformers/issues/31884\n",
      "  warnings.warn(\n"
     ]
    }
   ],
   "source": [
    "from sentence_transformers import SentenceTransformer, util\n",
    "import numpy as np\n",
    "import pandas as pd\n",
    "import csv\n",
    "import torch\n",
    "import time\n",
    "\n",
    "device = torch.device(\"cuda\" if torch.cuda.is_available() else \"cpu\") \n",
    "# Load pre-trained SBERT model\n",
    "model = SentenceTransformer('paraphrase-MiniLM-L6-v2').to(device)\n",
    "\n",
    "# Movie dataset (with title and plot)\n",
    "movies = []        \n",
    "with open('combined_movies_dataset.csv', newline='', encoding='utf-8') as csvfile:\n",
    "    reader = csv.DictReader(csvfile)\n",
    "    for row in reader:\n",
    "        title = row['title']\n",
    "        overview = row['overview']\n",
    "        release_date = row.get('release_date', 'N/A')  # Safely handle missing release dates\n",
    "        if release_date == 'None' or not release_date.strip():  # Handle empty or 'None' values\n",
    "            release_date = 'N/A'\n",
    "        movies.append({\"title\": title, \"overview\": overview, \"release_date\": release_date})\n",
    "\n",
    "# Extract the movie plots\n",
    "movie_plots = [movie['overview'] for movie in movies]"
   ]
  },
  {
   "cell_type": "code",
   "execution_count": 2,
   "id": "2ce8990f-ba1a-41fb-8767-9587760a62d5",
   "metadata": {},
   "outputs": [
    {
     "name": "stderr",
     "output_type": "stream",
     "text": [
      "C:\\Users\\vasan\\AppData\\Local\\Packages\\PythonSoftwareFoundation.Python.3.11_qbz5n2kfra8p0\\LocalCache\\local-packages\\Python311\\site-packages\\transformers\\models\\bert\\modeling_bert.py:439: UserWarning: 1Torch was not compiled with flash attention. (Triggered internally at C:\\actions-runner\\_work\\pytorch\\pytorch\\builder\\windows\\pytorch\\aten\\src\\ATen\\native\\transformers\\cuda\\sdp_utils.cpp:555.)\n",
      "  attn_output = torch.nn.functional.scaled_dot_product_attention(\n"
     ]
    }
   ],
   "source": [
    "# Encode the plots using SBERT\n",
    "start_time = time.time()\n",
    "plot_embeddings = model.encode(movie_plots, convert_to_tensor=True).to(device)\n",
    "encoding_time = time.time() - start_time"
   ]
  },
  {
   "cell_type": "code",
   "execution_count": 3,
   "id": "eda08093-38d9-433c-b581-e42f17516f6d",
   "metadata": {},
   "outputs": [
    {
     "name": "stdout",
     "output_type": "stream",
     "text": [
      "\n",
      "Time taken to encode plots: 303.0012 seconds\n"
     ]
    }
   ],
   "source": [
    "print(f\"\\nTime taken to encode plots: {encoding_time:.4f} seconds\")"
   ]
  },
  {
   "cell_type": "code",
   "execution_count": 13,
   "id": "530368a4-dadd-4196-babd-849a0e165f95",
   "metadata": {},
   "outputs": [],
   "source": [
    "# User's input movie plot for which we want a recommendation\n",
    "user_plot = \"indian guy stuck in the sea with animals\"\n",
    "\n",
    "# Encode the user's input plot\n",
    "start_time = time.time()\n",
    "user_embedding = model.encode(user_plot, convert_to_tensor=True).to(device)\n",
    "user_encoding_time = time.time() - start_time"
   ]
  },
  {
   "cell_type": "code",
   "execution_count": 14,
   "id": "925ab31e-1e47-4105-a944-47dc9a554168",
   "metadata": {},
   "outputs": [
    {
     "name": "stdout",
     "output_type": "stream",
     "text": [
      "Time taken to encode user plot: 0.0146 seconds\n"
     ]
    }
   ],
   "source": [
    "print(f\"Time taken to encode user plot: {user_encoding_time:.4f} seconds\")"
   ]
  },
  {
   "cell_type": "code",
   "execution_count": 15,
   "id": "3ce0a2cb-5073-497b-bb22-2aaaf3d1246b",
   "metadata": {},
   "outputs": [],
   "source": [
    "# Compute cosine similarity between the user's input plot and all movie plots\n",
    "start_time = time.time()\n",
    "cosine_scores = util.pytorch_cos_sim(user_embedding, plot_embeddings)[0]\n",
    "similarity_time = time.time() - start_time\n",
    "\n",
    "# Convert the cosine scores to a numpy array\n",
    "cosine_scores_np = cosine_scores.cpu().numpy()"
   ]
  },
  {
   "cell_type": "code",
   "execution_count": 16,
   "id": "0c10324b-4e0a-439f-a261-f8fffae807da",
   "metadata": {},
   "outputs": [
    {
     "name": "stdout",
     "output_type": "stream",
     "text": [
      "\n",
      "Top movie recommendations based on the plot:\n",
      "Title: All Is Lost, Release Date: 2013-08-23, Similarity Score: 0.6443\n",
      "Title: A Moment Passing, Release Date: 1997-07-25, Similarity Score: 0.5920\n",
      "Title: Life of Pi, Release Date: 2012-11-20, Similarity Score: 0.5757\n",
      "Title: Fish, Release Date: 2017-03-30, Similarity Score: 0.5722\n",
      "Title: Bird of Paradise, Release Date: N/A, Similarity Score: 0.5667\n",
      "Title: Wet City, Release Date: 2019-03-11, Similarity Score: 0.5601\n",
      "Title: Norsk Folksang, Release Date: 2011-04-25, Similarity Score: 0.5592\n",
      "Title: Kodomo Challenge Petit 2021-07, Release Date: 2021-07-01, Similarity Score: 0.5580\n",
      "Title: Gulp, Release Date: 2001-01-30, Similarity Score: 0.5571\n",
      "Title: Furankenshutain no kaijû: Sanda tai Gaira, Release Date: N/A, Similarity Score: 0.5568\n",
      "Time taken to calculate cosine similarity: 0.0048 seconds\n"
     ]
    }
   ],
   "source": [
    "# Get the top-k most similar movies (k=3)\n",
    "top_k = 10\n",
    "top_results = np.argsort(cosine_scores_np)[-top_k:][::-1]\n",
    "\n",
    "# Display the top-k recommended movies\n",
    "print(\"\\nTop movie recommendations based on the plot:\")\n",
    "for idx in top_results:\n",
    "    title = movies[idx]['title']\n",
    "    release_date = movies[idx].get('release_date')  # Use 'N/A' if release_date is missing\n",
    "    similarity_score = cosine_scores_np[idx]\n",
    "    print(f\"Title: {title}, Release Date: {release_date}, Similarity Score: {similarity_score:.4f}\")\n",
    "\n",
    "\n",
    "\n",
    "print(f\"Time taken to calculate cosine similarity: {similarity_time:.4f} seconds\")"
   ]
  },
  {
   "cell_type": "code",
   "execution_count": null,
   "id": "25442544-f793-45dc-952e-2e3254368f62",
   "metadata": {},
   "outputs": [],
   "source": []
  }
 ],
 "metadata": {
  "kernelspec": {
   "display_name": "Python 3 (ipykernel)",
   "language": "python",
   "name": "python3"
  },
  "language_info": {
   "codemirror_mode": {
    "name": "ipython",
    "version": 3
   },
   "file_extension": ".py",
   "mimetype": "text/x-python",
   "name": "python",
   "nbconvert_exporter": "python",
   "pygments_lexer": "ipython3",
   "version": "3.11.9"
  }
 },
 "nbformat": 4,
 "nbformat_minor": 5
}
