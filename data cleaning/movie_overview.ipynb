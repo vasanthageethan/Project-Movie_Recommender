{
 "cells": [
  {
   "cell_type": "code",
   "execution_count": 1,
   "id": "45fdc846-44f8-4753-8f0b-929d5bcf6f23",
   "metadata": {},
   "outputs": [],
   "source": [
    "import pandas as pd\n",
    "import csv"
   ]
  },
  {
   "cell_type": "code",
   "execution_count": 2,
   "id": "8c38f60a-80f8-4517-b3cb-fa8b3d2632e2",
   "metadata": {},
   "outputs": [
    {
     "data": {
      "text/html": [
       "<div>\n",
       "<style scoped>\n",
       "    .dataframe tbody tr th:only-of-type {\n",
       "        vertical-align: middle;\n",
       "    }\n",
       "\n",
       "    .dataframe tbody tr th {\n",
       "        vertical-align: top;\n",
       "    }\n",
       "\n",
       "    .dataframe thead th {\n",
       "        text-align: right;\n",
       "    }\n",
       "</style>\n",
       "<table border=\"1\" class=\"dataframe\">\n",
       "  <thead>\n",
       "    <tr style=\"text-align: right;\">\n",
       "      <th></th>\n",
       "      <th>title</th>\n",
       "      <th>overview</th>\n",
       "      <th>popularity</th>\n",
       "      <th>genres</th>\n",
       "      <th>release_date</th>\n",
       "    </tr>\n",
       "  </thead>\n",
       "  <tbody>\n",
       "    <tr>\n",
       "      <th>0</th>\n",
       "      <td>Christy</td>\n",
       "      <td>Seventeen-year-old Christy is at a crossroads....</td>\n",
       "      <td>0.0</td>\n",
       "      <td>NaN</td>\n",
       "      <td>2024-12-31</td>\n",
       "    </tr>\n",
       "    <tr>\n",
       "      <th>1</th>\n",
       "      <td>Untitled Project</td>\n",
       "      <td>Logan Westin's second film releasing later in ...</td>\n",
       "      <td>0.0</td>\n",
       "      <td>NaN</td>\n",
       "      <td>2024-12-31</td>\n",
       "    </tr>\n",
       "    <tr>\n",
       "      <th>2</th>\n",
       "      <td>Bloodshed</td>\n",
       "      <td>A retired detective is pulled back in by a hau...</td>\n",
       "      <td>0.0</td>\n",
       "      <td>Action, Horror, Drama</td>\n",
       "      <td>2024-12-31</td>\n",
       "    </tr>\n",
       "    <tr>\n",
       "      <th>3</th>\n",
       "      <td>Dysfunction</td>\n",
       "      <td>A man's grasp on reality falls apart when he e...</td>\n",
       "      <td>0.0</td>\n",
       "      <td>Horror</td>\n",
       "      <td>2024-12-31</td>\n",
       "    </tr>\n",
       "    <tr>\n",
       "      <th>4</th>\n",
       "      <td>Tornado</td>\n",
       "      <td>A struggling contractor risks his young sons' ...</td>\n",
       "      <td>0.0</td>\n",
       "      <td>Drama</td>\n",
       "      <td>2024-12-31</td>\n",
       "    </tr>\n",
       "  </tbody>\n",
       "</table>\n",
       "</div>"
      ],
      "text/plain": [
       "              title                                           overview  \\\n",
       "0           Christy  Seventeen-year-old Christy is at a crossroads....   \n",
       "1  Untitled Project  Logan Westin's second film releasing later in ...   \n",
       "2         Bloodshed  A retired detective is pulled back in by a hau...   \n",
       "3       Dysfunction  A man's grasp on reality falls apart when he e...   \n",
       "4           Tornado  A struggling contractor risks his young sons' ...   \n",
       "\n",
       "   popularity                 genres release_date  \n",
       "0         0.0                    NaN   2024-12-31  \n",
       "1         0.0                    NaN   2024-12-31  \n",
       "2         0.0  Action, Horror, Drama   2024-12-31  \n",
       "3         0.0                 Horror   2024-12-31  \n",
       "4         0.0                  Drama   2024-12-31  "
      ]
     },
     "execution_count": 2,
     "metadata": {},
     "output_type": "execute_result"
    }
   ],
   "source": [
    "movies = pd.read_csv(\"movies_dataset1.csv\")\n",
    "movies.head()"
   ]
  },
  {
   "cell_type": "code",
   "execution_count": 5,
   "id": "101db9c4-fa42-4adb-b9c6-bf13f371938d",
   "metadata": {},
   "outputs": [],
   "source": [
    "filtered_movies= movies[[\"title\", \"overview\"]]"
   ]
  },
  {
   "cell_type": "code",
   "execution_count": 6,
   "id": "3e2bc7f0-c1f1-4f10-926c-361afe7979e0",
   "metadata": {},
   "outputs": [
    {
     "data": {
      "text/html": [
       "<div>\n",
       "<style scoped>\n",
       "    .dataframe tbody tr th:only-of-type {\n",
       "        vertical-align: middle;\n",
       "    }\n",
       "\n",
       "    .dataframe tbody tr th {\n",
       "        vertical-align: top;\n",
       "    }\n",
       "\n",
       "    .dataframe thead th {\n",
       "        text-align: right;\n",
       "    }\n",
       "</style>\n",
       "<table border=\"1\" class=\"dataframe\">\n",
       "  <thead>\n",
       "    <tr style=\"text-align: right;\">\n",
       "      <th></th>\n",
       "      <th>title</th>\n",
       "      <th>overview</th>\n",
       "    </tr>\n",
       "  </thead>\n",
       "  <tbody>\n",
       "    <tr>\n",
       "      <th>0</th>\n",
       "      <td>Christy</td>\n",
       "      <td>Seventeen-year-old Christy is at a crossroads....</td>\n",
       "    </tr>\n",
       "    <tr>\n",
       "      <th>1</th>\n",
       "      <td>Untitled Project</td>\n",
       "      <td>Logan Westin's second film releasing later in ...</td>\n",
       "    </tr>\n",
       "    <tr>\n",
       "      <th>2</th>\n",
       "      <td>Bloodshed</td>\n",
       "      <td>A retired detective is pulled back in by a hau...</td>\n",
       "    </tr>\n",
       "    <tr>\n",
       "      <th>3</th>\n",
       "      <td>Dysfunction</td>\n",
       "      <td>A man's grasp on reality falls apart when he e...</td>\n",
       "    </tr>\n",
       "    <tr>\n",
       "      <th>4</th>\n",
       "      <td>Tornado</td>\n",
       "      <td>A struggling contractor risks his young sons' ...</td>\n",
       "    </tr>\n",
       "  </tbody>\n",
       "</table>\n",
       "</div>"
      ],
      "text/plain": [
       "              title                                           overview\n",
       "0           Christy  Seventeen-year-old Christy is at a crossroads....\n",
       "1  Untitled Project  Logan Westin's second film releasing later in ...\n",
       "2         Bloodshed  A retired detective is pulled back in by a hau...\n",
       "3       Dysfunction  A man's grasp on reality falls apart when he e...\n",
       "4           Tornado  A struggling contractor risks his young sons' ..."
      ]
     },
     "execution_count": 6,
     "metadata": {},
     "output_type": "execute_result"
    }
   ],
   "source": [
    "filtered_movies.head()"
   ]
  },
  {
   "cell_type": "code",
   "execution_count": 7,
   "id": "b1caf683-bbc1-4617-a932-b23e2059da76",
   "metadata": {},
   "outputs": [
    {
     "name": "stdout",
     "output_type": "stream",
     "text": [
      "<class 'pandas.core.frame.DataFrame'>\n",
      "RangeIndex: 359562 entries, 0 to 359561\n",
      "Data columns (total 2 columns):\n",
      " #   Column    Non-Null Count   Dtype \n",
      "---  ------    --------------   ----- \n",
      " 0   title     359562 non-null  object\n",
      " 1   overview  348977 non-null  object\n",
      "dtypes: object(2)\n",
      "memory usage: 5.5+ MB\n"
     ]
    }
   ],
   "source": [
    "filtered_movies.info()"
   ]
  },
  {
   "cell_type": "code",
   "execution_count": 8,
   "id": "cbdad756-9137-438e-a742-1d98a4739ab4",
   "metadata": {},
   "outputs": [],
   "source": [
    "filtered_movies.to_csv(\"movies_data.csv\")"
   ]
  },
  {
   "cell_type": "code",
   "execution_count": 9,
   "id": "57be6fb6-9301-476a-8fef-d6e0f96e243d",
   "metadata": {},
   "outputs": [],
   "source": [
    "combined_data = pd.read_csv(\"combined_movies_dataset.csv\")"
   ]
  },
  {
   "cell_type": "code",
   "execution_count": 13,
   "id": "915c20b6-fcac-4edb-ae4f-a9d22784bd96",
   "metadata": {},
   "outputs": [
    {
     "name": "stdout",
     "output_type": "stream",
     "text": [
      "<class 'pandas.core.frame.DataFrame'>\n",
      "RangeIndex: 733952 entries, 0 to 733951\n",
      "Data columns (total 5 columns):\n",
      " #   Column        Non-Null Count   Dtype  \n",
      "---  ------        --------------   -----  \n",
      " 0   title         733952 non-null  object \n",
      " 1   overview      712782 non-null  object \n",
      " 2   popularity    359562 non-null  float64\n",
      " 3   genres        206165 non-null  object \n",
      " 4   release_date  359562 non-null  object \n",
      "dtypes: float64(1), object(4)\n",
      "memory usage: 28.0+ MB\n"
     ]
    }
   ],
   "source": [
    "combined_data.info()"
   ]
  },
  {
   "cell_type": "code",
   "execution_count": 14,
   "id": "7b12629b-e1e8-411c-8315-a6b3656f422a",
   "metadata": {},
   "outputs": [],
   "source": [
    "combined_dataset =  pd.concat([combined_data, filtered_movies], ignore_index=True)"
   ]
  },
  {
   "cell_type": "code",
   "execution_count": 15,
   "id": "458e68b2-1470-4c8c-b641-e235311226a4",
   "metadata": {},
   "outputs": [
    {
     "name": "stdout",
     "output_type": "stream",
     "text": [
      "<class 'pandas.core.frame.DataFrame'>\n",
      "RangeIndex: 1093514 entries, 0 to 1093513\n",
      "Data columns (total 5 columns):\n",
      " #   Column        Non-Null Count    Dtype  \n",
      "---  ------        --------------    -----  \n",
      " 0   title         1093514 non-null  object \n",
      " 1   overview      1061759 non-null  object \n",
      " 2   popularity    359562 non-null   float64\n",
      " 3   genres        206165 non-null   object \n",
      " 4   release_date  359562 non-null   object \n",
      "dtypes: float64(1), object(4)\n",
      "memory usage: 41.7+ MB\n"
     ]
    }
   ],
   "source": [
    "combined_dataset.info()"
   ]
  },
  {
   "cell_type": "code",
   "execution_count": 18,
   "id": "125f9ff0-863a-4faa-ab3a-92c80516e0cb",
   "metadata": {},
   "outputs": [],
   "source": [
    "df_cleaned = combined_dataset.drop_duplicates()"
   ]
  },
  {
   "cell_type": "code",
   "execution_count": 19,
   "id": "04ed36ac-ff26-4277-b00b-5c8c6fd782a3",
   "metadata": {},
   "outputs": [
    {
     "name": "stdout",
     "output_type": "stream",
     "text": [
      "<class 'pandas.core.frame.DataFrame'>\n",
      "Index: 732938 entries, 0 to 733951\n",
      "Data columns (total 5 columns):\n",
      " #   Column        Non-Null Count   Dtype  \n",
      "---  ------        --------------   -----  \n",
      " 0   title         732938 non-null  object \n",
      " 1   overview      711829 non-null  object \n",
      " 2   popularity    359516 non-null  float64\n",
      " 3   genres        206149 non-null  object \n",
      " 4   release_date  359516 non-null  object \n",
      "dtypes: float64(1), object(4)\n",
      "memory usage: 33.6+ MB\n"
     ]
    }
   ],
   "source": [
    "df_cleaned.info()"
   ]
  },
  {
   "cell_type": "code",
   "execution_count": null,
   "id": "87980949-12cf-410e-9aae-2db8d65c5763",
   "metadata": {},
   "outputs": [],
   "source": []
  }
 ],
 "metadata": {
  "kernelspec": {
   "display_name": "Python 3 (ipykernel)",
   "language": "python",
   "name": "python3"
  },
  "language_info": {
   "codemirror_mode": {
    "name": "ipython",
    "version": 3
   },
   "file_extension": ".py",
   "mimetype": "text/x-python",
   "name": "python",
   "nbconvert_exporter": "python",
   "pygments_lexer": "ipython3",
   "version": "3.11.9"
  }
 },
 "nbformat": 4,
 "nbformat_minor": 5
}
